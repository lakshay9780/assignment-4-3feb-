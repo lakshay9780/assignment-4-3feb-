{
 "cells": [
  {
   "cell_type": "markdown",
   "id": "7998de87-bc5a-4afe-a349-68f70630854f",
   "metadata": {},
   "source": [
    "# ASSIGNMENT-4"
   ]
  },
  {
   "cell_type": "markdown",
   "id": "b7659861-9ffa-4f04-90bd-fed3b621881c",
   "metadata": {},
   "source": [
    "# Answer-1"
   ]
  },
  {
   "cell_type": "code",
   "execution_count": 9,
   "id": "26ce5354-3d17-4526-87d5-c032b3b5391f",
   "metadata": {},
   "outputs": [],
   "source": [
    "# def keyword is used to create a function.\n",
    "def odd_num():\n",
    "    for i in range(1,25,2):\n",
    "        print (i)"
   ]
  },
  {
   "cell_type": "code",
   "execution_count": 10,
   "id": "b052429d-1d23-486f-8d93-e6d95192d271",
   "metadata": {},
   "outputs": [
    {
     "name": "stdout",
     "output_type": "stream",
     "text": [
      "1\n",
      "3\n",
      "5\n",
      "7\n",
      "9\n",
      "11\n",
      "13\n",
      "15\n",
      "17\n",
      "19\n",
      "21\n",
      "23\n"
     ]
    }
   ],
   "source": [
    "odd_num()"
   ]
  },
  {
   "cell_type": "markdown",
   "id": "9ce861ad-0745-46ec-8dca-de13f72b9e8b",
   "metadata": {},
   "source": [
    "# Answer-2"
   ]
  },
  {
   "cell_type": "code",
   "execution_count": 11,
   "id": "82eca47a-5b62-4bb8-82fc-b2b1fb7aacb4",
   "metadata": {},
   "outputs": [],
   "source": [
    "# We use *args and **kwargs as arguments of a function when we are unsure about the number of arguments to pass in a function."
   ]
  },
  {
   "cell_type": "code",
   "execution_count": 13,
   "id": "9946e3e9-40c4-474c-8ee8-03a9b8291a4d",
   "metadata": {},
   "outputs": [],
   "source": [
    "def add(*args):\n",
    "    sum=0\n",
    "    for i in args:\n",
    "        sum=sum+i\n",
    "    print(\"sum is\",sum)    "
   ]
  },
  {
   "cell_type": "code",
   "execution_count": 14,
   "id": "b954d6df-c328-4df1-84fb-a646fc332d30",
   "metadata": {},
   "outputs": [
    {
     "name": "stdout",
     "output_type": "stream",
     "text": [
      "sum is 69\n"
     ]
    }
   ],
   "source": [
    "add(5,8,56)"
   ]
  },
  {
   "cell_type": "code",
   "execution_count": 15,
   "id": "91f9ce98-9c5b-4216-b0e6-840684facd45",
   "metadata": {},
   "outputs": [
    {
     "name": "stdout",
     "output_type": "stream",
     "text": [
      "sum is 353\n"
     ]
    }
   ],
   "source": [
    "add(56,98,23,95,14,67)"
   ]
  },
  {
   "cell_type": "code",
   "execution_count": 16,
   "id": "dd006b8d-dda7-43ed-9f72-7653d84203b7",
   "metadata": {},
   "outputs": [],
   "source": [
    "def try1(**kwargs):\n",
    "    return kwargs"
   ]
  },
  {
   "cell_type": "code",
   "execution_count": 18,
   "id": "f4c046be-7ede-4a46-8411-191bbcb22ed4",
   "metadata": {},
   "outputs": [
    {
     "data": {
      "text/plain": [
       "{'a': 'diya', 'b': 78, 'c': [6, 8, 90]}"
      ]
     },
     "execution_count": 18,
     "metadata": {},
     "output_type": "execute_result"
    }
   ],
   "source": [
    "try1(a=\"diya\",b=78,c=[6,8,90])"
   ]
  },
  {
   "cell_type": "markdown",
   "id": "ca420e9a-af24-420b-a95f-2c7c13840a27",
   "metadata": {},
   "source": [
    "# Answer-3"
   ]
  },
  {
   "cell_type": "code",
   "execution_count": 19,
   "id": "2abadb46-c448-4751-8e67-6e0d1ff9e0c8",
   "metadata": {},
   "outputs": [],
   "source": [
    "# Iterator in Python is an object that is used to iterate over iterable objects like lists, tuples, dicts, and sets. \n",
    "# The iterator object is initialized using the iter() method.It uses the next() method for iteration.\n",
    "\n",
    "# __iter (iterable)__ method is used for the initialization of an iterator. \n",
    "\n",
    "# next method is used for iteration"
   ]
  },
  {
   "cell_type": "code",
   "execution_count": 20,
   "id": "43be6afc-35b6-4811-bbce-64397871e10e",
   "metadata": {},
   "outputs": [],
   "source": [
    "l=[2,4,6,8,10,12,14,16,18,20]"
   ]
  },
  {
   "cell_type": "code",
   "execution_count": 22,
   "id": "93c06e17-f6c4-47c6-b50f-0f2c98639a0f",
   "metadata": {},
   "outputs": [],
   "source": [
    "l1=iter(l)"
   ]
  },
  {
   "cell_type": "code",
   "execution_count": 23,
   "id": "01728f3c-b2b6-439c-aa5d-42c86b49759d",
   "metadata": {},
   "outputs": [
    {
     "data": {
      "text/plain": [
       "2"
      ]
     },
     "execution_count": 23,
     "metadata": {},
     "output_type": "execute_result"
    }
   ],
   "source": [
    "next(l1)"
   ]
  },
  {
   "cell_type": "code",
   "execution_count": 24,
   "id": "559c8f93-5e5f-4bd8-aaf2-72c8821b7593",
   "metadata": {},
   "outputs": [
    {
     "data": {
      "text/plain": [
       "4"
      ]
     },
     "execution_count": 24,
     "metadata": {},
     "output_type": "execute_result"
    }
   ],
   "source": [
    "next(l1)"
   ]
  },
  {
   "cell_type": "code",
   "execution_count": 25,
   "id": "ff2650ab-2049-4434-b696-1f0de896f98c",
   "metadata": {},
   "outputs": [
    {
     "data": {
      "text/plain": [
       "6"
      ]
     },
     "execution_count": 25,
     "metadata": {},
     "output_type": "execute_result"
    }
   ],
   "source": [
    "next(l1)"
   ]
  },
  {
   "cell_type": "code",
   "execution_count": 26,
   "id": "cc1eebbf-dc26-4a65-a5d0-95d3540bbc8b",
   "metadata": {},
   "outputs": [
    {
     "data": {
      "text/plain": [
       "8"
      ]
     },
     "execution_count": 26,
     "metadata": {},
     "output_type": "execute_result"
    }
   ],
   "source": [
    "next(l1)"
   ]
  },
  {
   "cell_type": "code",
   "execution_count": 27,
   "id": "4598ed72-053d-44db-9480-8e3b74120fcf",
   "metadata": {},
   "outputs": [
    {
     "data": {
      "text/plain": [
       "10"
      ]
     },
     "execution_count": 27,
     "metadata": {},
     "output_type": "execute_result"
    }
   ],
   "source": [
    "next(l1)"
   ]
  },
  {
   "cell_type": "markdown",
   "id": "24e089ac-b466-4208-9d3a-492206fac674",
   "metadata": {},
   "source": [
    "# Answer-4"
   ]
  },
  {
   "cell_type": "code",
   "execution_count": 29,
   "id": "cade5630-ea80-4c11-986d-54569b0e4ef3",
   "metadata": {},
   "outputs": [],
   "source": [
    "# Generator-Function: A generator-function is defined like a normal function, but whenever it needs to generate a value,\n",
    "# it does so with the yield keyword rather than return. If the body of a def contains yield, the function automatically becomes a generator function.\n",
    "#  yield keyword is used to create a generator function. A type of function that is memory efficient and can be used like an iterator object."
   ]
  },
  {
   "cell_type": "code",
   "execution_count": 5,
   "id": "5a91c5dd-b5ee-40de-ad34-3b813c10a163",
   "metadata": {},
   "outputs": [],
   "source": [
    "def sum1(n):\n",
    "    sum=0\n",
    "    for i in range(0,n):\n",
    "        sum=sum+i\n",
    "    yield sum    "
   ]
  },
  {
   "cell_type": "code",
   "execution_count": 6,
   "id": "45d2e6e7-def3-49ec-8deb-39f8cbad4919",
   "metadata": {},
   "outputs": [
    {
     "data": {
      "text/plain": [
       "<generator object sum1 at 0x7f5c73595d90>"
      ]
     },
     "execution_count": 6,
     "metadata": {},
     "output_type": "execute_result"
    }
   ],
   "source": [
    "sum1(5)"
   ]
  },
  {
   "cell_type": "code",
   "execution_count": 8,
   "id": "99c4d134-1149-4a5e-ae1b-fe25fafcc23d",
   "metadata": {},
   "outputs": [
    {
     "name": "stdout",
     "output_type": "stream",
     "text": [
      "10\n"
     ]
    }
   ],
   "source": [
    "for i in sum1(5):\n",
    "    print(i)"
   ]
  },
  {
   "cell_type": "markdown",
   "id": "e587227f-032c-4210-a375-fe186f56c7ec",
   "metadata": {},
   "source": [
    "# Answer-5"
   ]
  },
  {
   "cell_type": "code",
   "execution_count": 18,
   "id": "5896d4c2-c03e-4321-87a0-9ee7c2d019f2",
   "metadata": {},
   "outputs": [],
   "source": [
    "# prime number less than 1000\n",
    "def prime():\n",
    "    count=0\n",
    "    print(2)\n",
    "    for i in range(3,1000):\n",
    "        for j in range(2,i):\n",
    "            if i%j==0:\n",
    "                count+=1\n",
    "                break\n",
    "        if count==0:\n",
    "            yield(i)\n",
    "        count=0    \n",
    "        "
   ]
  },
  {
   "cell_type": "code",
   "execution_count": 19,
   "id": "2d24732a-a76f-489b-bbcf-2f1507521d45",
   "metadata": {},
   "outputs": [
    {
     "data": {
      "text/plain": [
       "<generator object prime at 0x7fe801dfe030>"
      ]
     },
     "execution_count": 19,
     "metadata": {},
     "output_type": "execute_result"
    }
   ],
   "source": [
    "prime()"
   ]
  },
  {
   "cell_type": "code",
   "execution_count": 20,
   "id": "cdc21bef-505d-420a-800c-df56e97e9bd5",
   "metadata": {},
   "outputs": [],
   "source": [
    "primen=prime()"
   ]
  },
  {
   "cell_type": "code",
   "execution_count": 21,
   "id": "001b5d1d-a7fe-4507-9373-fc66175fc0a3",
   "metadata": {},
   "outputs": [
    {
     "name": "stdout",
     "output_type": "stream",
     "text": [
      "2\n"
     ]
    },
    {
     "data": {
      "text/plain": [
       "3"
      ]
     },
     "execution_count": 21,
     "metadata": {},
     "output_type": "execute_result"
    }
   ],
   "source": [
    "next(primen)"
   ]
  },
  {
   "cell_type": "code",
   "execution_count": 22,
   "id": "317eac29-ba61-4ae2-b6f8-bcbcb4b18c3e",
   "metadata": {},
   "outputs": [
    {
     "data": {
      "text/plain": [
       "5"
      ]
     },
     "execution_count": 22,
     "metadata": {},
     "output_type": "execute_result"
    }
   ],
   "source": [
    "next(primen)"
   ]
  },
  {
   "cell_type": "code",
   "execution_count": 23,
   "id": "27ffea4b-a29e-46d6-a773-9ffe2bd7be99",
   "metadata": {},
   "outputs": [
    {
     "data": {
      "text/plain": [
       "7"
      ]
     },
     "execution_count": 23,
     "metadata": {},
     "output_type": "execute_result"
    }
   ],
   "source": [
    "next(primen)"
   ]
  },
  {
   "cell_type": "code",
   "execution_count": 24,
   "id": "9989aabb-24ac-4272-8fb5-eb685af1c6c4",
   "metadata": {},
   "outputs": [
    {
     "data": {
      "text/plain": [
       "11"
      ]
     },
     "execution_count": 24,
     "metadata": {},
     "output_type": "execute_result"
    }
   ],
   "source": [
    "next(primen)"
   ]
  },
  {
   "cell_type": "code",
   "execution_count": 25,
   "id": "b88ca9e3-146e-4d6b-b001-6ba7ea485af1",
   "metadata": {},
   "outputs": [
    {
     "data": {
      "text/plain": [
       "13"
      ]
     },
     "execution_count": 25,
     "metadata": {},
     "output_type": "execute_result"
    }
   ],
   "source": [
    "next(primen)"
   ]
  },
  {
   "cell_type": "code",
   "execution_count": 26,
   "id": "eb1a99da-c4ba-4e65-93c2-1e1fb195ed16",
   "metadata": {},
   "outputs": [
    {
     "data": {
      "text/plain": [
       "17"
      ]
     },
     "execution_count": 26,
     "metadata": {},
     "output_type": "execute_result"
    }
   ],
   "source": [
    "next(primen)"
   ]
  },
  {
   "cell_type": "code",
   "execution_count": 27,
   "id": "648259e7-88cc-4edd-a57b-ab91e90905f9",
   "metadata": {},
   "outputs": [
    {
     "data": {
      "text/plain": [
       "19"
      ]
     },
     "execution_count": 27,
     "metadata": {},
     "output_type": "execute_result"
    }
   ],
   "source": [
    "next(primen)"
   ]
  },
  {
   "cell_type": "code",
   "execution_count": 28,
   "id": "0cce99fe-967b-47cf-ba62-aeecc0cee535",
   "metadata": {},
   "outputs": [
    {
     "data": {
      "text/plain": [
       "23"
      ]
     },
     "execution_count": 28,
     "metadata": {},
     "output_type": "execute_result"
    }
   ],
   "source": [
    "next(primen)"
   ]
  },
  {
   "cell_type": "code",
   "execution_count": 29,
   "id": "0a1b7083-3581-46be-9755-e819deab80fb",
   "metadata": {},
   "outputs": [
    {
     "data": {
      "text/plain": [
       "29"
      ]
     },
     "execution_count": 29,
     "metadata": {},
     "output_type": "execute_result"
    }
   ],
   "source": [
    "next(primen)"
   ]
  },
  {
   "cell_type": "code",
   "execution_count": 30,
   "id": "e326a2df-0fa5-4ded-9b32-616892c2e828",
   "metadata": {},
   "outputs": [
    {
     "data": {
      "text/plain": [
       "31"
      ]
     },
     "execution_count": 30,
     "metadata": {},
     "output_type": "execute_result"
    }
   ],
   "source": [
    "next(primen)"
   ]
  },
  {
   "cell_type": "code",
   "execution_count": 31,
   "id": "2754bbd1-41eb-48df-b615-16025120a598",
   "metadata": {},
   "outputs": [
    {
     "data": {
      "text/plain": [
       "37"
      ]
     },
     "execution_count": 31,
     "metadata": {},
     "output_type": "execute_result"
    }
   ],
   "source": [
    "next(primen)"
   ]
  },
  {
   "cell_type": "code",
   "execution_count": 32,
   "id": "a8c52a24-40d4-4463-b470-8ac9892c90b2",
   "metadata": {},
   "outputs": [
    {
     "data": {
      "text/plain": [
       "41"
      ]
     },
     "execution_count": 32,
     "metadata": {},
     "output_type": "execute_result"
    }
   ],
   "source": [
    "next(primen)"
   ]
  },
  {
   "cell_type": "code",
   "execution_count": 33,
   "id": "8197b6af-ba3d-4628-8792-cd757e57cea7",
   "metadata": {},
   "outputs": [
    {
     "data": {
      "text/plain": [
       "43"
      ]
     },
     "execution_count": 33,
     "metadata": {},
     "output_type": "execute_result"
    }
   ],
   "source": [
    "next(primen)"
   ]
  },
  {
   "cell_type": "code",
   "execution_count": 34,
   "id": "d415237d-22c8-44a3-bd18-719cc7210ea5",
   "metadata": {},
   "outputs": [
    {
     "data": {
      "text/plain": [
       "47"
      ]
     },
     "execution_count": 34,
     "metadata": {},
     "output_type": "execute_result"
    }
   ],
   "source": [
    "next(primen)"
   ]
  },
  {
   "cell_type": "code",
   "execution_count": 35,
   "id": "9d45dd29-247e-4fd6-8212-023941c01fc0",
   "metadata": {},
   "outputs": [
    {
     "data": {
      "text/plain": [
       "53"
      ]
     },
     "execution_count": 35,
     "metadata": {},
     "output_type": "execute_result"
    }
   ],
   "source": [
    "next(primen)"
   ]
  },
  {
   "cell_type": "code",
   "execution_count": 36,
   "id": "7dbf9a7b-5c96-4411-9fa7-134d075d6d39",
   "metadata": {},
   "outputs": [
    {
     "data": {
      "text/plain": [
       "59"
      ]
     },
     "execution_count": 36,
     "metadata": {},
     "output_type": "execute_result"
    }
   ],
   "source": [
    "next(primen)"
   ]
  },
  {
   "cell_type": "code",
   "execution_count": 37,
   "id": "01f405d5-6a9f-4f12-81bf-60c2c8c12d12",
   "metadata": {},
   "outputs": [
    {
     "data": {
      "text/plain": [
       "61"
      ]
     },
     "execution_count": 37,
     "metadata": {},
     "output_type": "execute_result"
    }
   ],
   "source": [
    "next(primen)"
   ]
  },
  {
   "cell_type": "code",
   "execution_count": 38,
   "id": "a3b89057-8b52-4ea8-a311-727e8252ec39",
   "metadata": {},
   "outputs": [
    {
     "data": {
      "text/plain": [
       "67"
      ]
     },
     "execution_count": 38,
     "metadata": {},
     "output_type": "execute_result"
    }
   ],
   "source": [
    "next(primen)"
   ]
  },
  {
   "cell_type": "code",
   "execution_count": 39,
   "id": "a32ae8da-e049-482c-8ab5-e2b6d1f91855",
   "metadata": {},
   "outputs": [
    {
     "data": {
      "text/plain": [
       "71"
      ]
     },
     "execution_count": 39,
     "metadata": {},
     "output_type": "execute_result"
    }
   ],
   "source": [
    "next(primen)"
   ]
  },
  {
   "cell_type": "code",
   "execution_count": 40,
   "id": "890b11dc-c119-47c0-9d6c-d130f0649b87",
   "metadata": {},
   "outputs": [
    {
     "data": {
      "text/plain": [
       "73"
      ]
     },
     "execution_count": 40,
     "metadata": {},
     "output_type": "execute_result"
    }
   ],
   "source": [
    "next(primen)"
   ]
  },
  {
   "cell_type": "code",
   "execution_count": 41,
   "id": "c4de6761-4923-4480-875c-c6d530cdd04c",
   "metadata": {},
   "outputs": [
    {
     "data": {
      "text/plain": [
       "79"
      ]
     },
     "execution_count": 41,
     "metadata": {},
     "output_type": "execute_result"
    }
   ],
   "source": [
    "next(primen)"
   ]
  },
  {
   "cell_type": "code",
   "execution_count": 42,
   "id": "cee8817f-1f97-4145-bb2f-7c698efa3c0d",
   "metadata": {},
   "outputs": [
    {
     "data": {
      "text/plain": [
       "83"
      ]
     },
     "execution_count": 42,
     "metadata": {},
     "output_type": "execute_result"
    }
   ],
   "source": [
    "next(primen)"
   ]
  },
  {
   "cell_type": "code",
   "execution_count": 43,
   "id": "914112d6-1736-495c-ab5d-ca3783540fb8",
   "metadata": {},
   "outputs": [
    {
     "data": {
      "text/plain": [
       "89"
      ]
     },
     "execution_count": 43,
     "metadata": {},
     "output_type": "execute_result"
    }
   ],
   "source": [
    "next(primen)"
   ]
  },
  {
   "cell_type": "code",
   "execution_count": 44,
   "id": "3492d70e-4f99-4311-825c-d6dfb5dd4e45",
   "metadata": {},
   "outputs": [
    {
     "data": {
      "text/plain": [
       "97"
      ]
     },
     "execution_count": 44,
     "metadata": {},
     "output_type": "execute_result"
    }
   ],
   "source": [
    "next(primen)"
   ]
  },
  {
   "cell_type": "markdown",
   "id": "ad372505-8a64-47ce-8b01-abbf95488c6e",
   "metadata": {},
   "source": [
    "# Answer-6"
   ]
  },
  {
   "cell_type": "code",
   "execution_count": 50,
   "id": "509cd19d-8545-4928-a31b-deaa08a679cd",
   "metadata": {},
   "outputs": [],
   "source": [
    "def fibo():\n",
    "    a,b=0,1\n",
    "    count=1\n",
    "    while count<=10:\n",
    "        print(a)\n",
    "        count+=1\n",
    "        a,b=b,a+b\n",
    "        "
   ]
  },
  {
   "cell_type": "code",
   "execution_count": 51,
   "id": "178914c9-1b3a-4cf2-9030-a5182b9395f2",
   "metadata": {},
   "outputs": [
    {
     "name": "stdout",
     "output_type": "stream",
     "text": [
      "0\n",
      "1\n",
      "1\n",
      "2\n",
      "3\n",
      "5\n",
      "8\n",
      "13\n",
      "21\n",
      "34\n"
     ]
    }
   ],
   "source": [
    "fibo()"
   ]
  },
  {
   "cell_type": "markdown",
   "id": "101e9e35-4cea-4592-9efb-5f4510abd198",
   "metadata": {},
   "source": [
    "# Answer-7"
   ]
  },
  {
   "cell_type": "code",
   "execution_count": 52,
   "id": "d72eac31-4ebc-4024-bd1e-18af010c9c2a",
   "metadata": {},
   "outputs": [
    {
     "data": {
      "text/plain": [
       "['p', 'w', 's', 'k', 'i', 'l', 'l', 's']"
      ]
     },
     "execution_count": 52,
     "metadata": {},
     "output_type": "execute_result"
    }
   ],
   "source": [
    "s=\"pwskills\"\n",
    "[i for i in s]"
   ]
  },
  {
   "cell_type": "markdown",
   "id": "c1b768d8-706b-401a-b623-62ef14da2de1",
   "metadata": {},
   "source": [
    "# Answer-8"
   ]
  },
  {
   "cell_type": "code",
   "execution_count": 68,
   "id": "8d6844f3-3367-48dd-ba7c-542268d2267e",
   "metadata": {},
   "outputs": [
    {
     "name": "stdin",
     "output_type": "stream",
     "text": [
      "Enter number which you want to check 12321\n"
     ]
    },
    {
     "name": "stdout",
     "output_type": "stream",
     "text": [
      "12321 is a palindrome\n"
     ]
    }
   ],
   "source": [
    "# To check if a number is palindrome or not using while loop\n",
    "n=int(input(\"Enter number which you want to check\"))\n",
    "rev,lastd=0,0\n",
    "num=n\n",
    "while num>0:\n",
    "    lastd=int(num%10)\n",
    "    rev=int((rev*10)+lastd)\n",
    "    num=int(num/10)\n",
    "if rev==n:\n",
    "    print(n,\"is a palindrome\")\n",
    "else:\n",
    "    print(\"not a palindrome\")"
   ]
  },
  {
   "cell_type": "markdown",
   "id": "83a110a5-8959-4179-9d52-cb8ebd23911d",
   "metadata": {},
   "source": [
    "# Answer-9"
   ]
  },
  {
   "cell_type": "code",
   "execution_count": 69,
   "id": "45571ce0-f419-4e92-84e7-7ef63e3d4c0f",
   "metadata": {},
   "outputs": [],
   "source": [
    "# print odd numbers from 1 to 100 using list comprehension"
   ]
  },
  {
   "cell_type": "code",
   "execution_count": 71,
   "id": "e3168822-d461-41d3-a0ce-70f9f7dabb59",
   "metadata": {},
   "outputs": [],
   "source": [
    "l=[i for i in range(1,100) ]"
   ]
  },
  {
   "cell_type": "code",
   "execution_count": 74,
   "id": "33ea6126-8506-482e-8813-c150fde72634",
   "metadata": {},
   "outputs": [
    {
     "data": {
      "text/plain": [
       "[1,\n",
       " 3,\n",
       " 5,\n",
       " 7,\n",
       " 9,\n",
       " 11,\n",
       " 13,\n",
       " 15,\n",
       " 17,\n",
       " 19,\n",
       " 21,\n",
       " 23,\n",
       " 25,\n",
       " 27,\n",
       " 29,\n",
       " 31,\n",
       " 33,\n",
       " 35,\n",
       " 37,\n",
       " 39,\n",
       " 41,\n",
       " 43,\n",
       " 45,\n",
       " 47,\n",
       " 49,\n",
       " 51,\n",
       " 53,\n",
       " 55,\n",
       " 57,\n",
       " 59,\n",
       " 61,\n",
       " 63,\n",
       " 65,\n",
       " 67,\n",
       " 69,\n",
       " 71,\n",
       " 73,\n",
       " 75,\n",
       " 77,\n",
       " 79,\n",
       " 81,\n",
       " 83,\n",
       " 85,\n",
       " 87,\n",
       " 89,\n",
       " 91,\n",
       " 93,\n",
       " 95,\n",
       " 97,\n",
       " 99]"
      ]
     },
     "execution_count": 74,
     "metadata": {},
     "output_type": "execute_result"
    }
   ],
   "source": [
    "list(filter(lambda x :x%2!=0,l))"
   ]
  },
  {
   "cell_type": "code",
   "execution_count": null,
   "id": "57e8df8c-c29d-4307-bd7f-50ef2d50b3b9",
   "metadata": {},
   "outputs": [],
   "source": []
  }
 ],
 "metadata": {
  "kernelspec": {
   "display_name": "Python 3 (ipykernel)",
   "language": "python",
   "name": "python3"
  },
  "language_info": {
   "codemirror_mode": {
    "name": "ipython",
    "version": 3
   },
   "file_extension": ".py",
   "mimetype": "text/x-python",
   "name": "python",
   "nbconvert_exporter": "python",
   "pygments_lexer": "ipython3",
   "version": "3.10.8"
  }
 },
 "nbformat": 4,
 "nbformat_minor": 5
}
